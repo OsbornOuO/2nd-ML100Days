{
  "cells": [
    {
      "cell_type": "markdown",
      "metadata": {
        "pycharm": {}
      },
      "source": [
        "# 處理 outliers\n",
        "* 新增欄位註記\n",
        "* outliers 或 NA 填補\n",
        "    1. 平均數 (mean)\n",
        "    2. 中位數 (median, or Q50)\n",
        "    3. 最大/最小值 (max/min, Q100, Q0)\n",
        "    4. 分位數 (quantile)"
      ]
    },
    {
      "cell_type": "code",
      "execution_count": 13,
      "metadata": {
        "pycharm": {
          "is_executing": false
        }
      },
      "outputs": [],
      "source": "# Import 需要的套件\nimport os\nimport numpy as np\nimport pandas as pd\nimport matplotlib.pyplot as plt\n%matplotlib inline\n\n# 設定 data_path\ndir_data \u003d \u0027../data/\u0027"
    },
    {
      "cell_type": "code",
      "execution_count": 14,
      "metadata": {
        "pycharm": {
          "is_executing": false
        }
      },
      "outputs": [
        {
          "name": "stdout",
          "text": [
            "Path of read in data: ../data/application_train.csv\n"
          ],
          "output_type": "stream"
        },
        {
          "data": {
            "text/plain": "   SK_ID_CURR  TARGET NAME_CONTRACT_TYPE CODE_GENDER FLAG_OWN_CAR  \\\n0      100002       1         Cash loans           M            N   \n1      100003       0         Cash loans           F            N   \n2      100004       0    Revolving loans           M            Y   \n3      100006       0         Cash loans           F            N   \n4      100007       0         Cash loans           M            N   \n\n  FLAG_OWN_REALTY  CNT_CHILDREN  AMT_INCOME_TOTAL  AMT_CREDIT  AMT_ANNUITY  \\\n0               Y             0          202500.0    406597.5      24700.5   \n1               N             0          270000.0   1293502.5      35698.5   \n2               Y             0           67500.0    135000.0       6750.0   \n3               Y             0          135000.0    312682.5      29686.5   \n4               Y             0          121500.0    513000.0      21865.5   \n\n   ...  FLAG_DOCUMENT_18 FLAG_DOCUMENT_19 FLAG_DOCUMENT_20 FLAG_DOCUMENT_21  \\\n0  ...                 0                0                0                0   \n1  ...                 0                0                0                0   \n2  ...                 0                0                0                0   \n3  ...                 0                0                0                0   \n4  ...                 0                0                0                0   \n\n  AMT_REQ_CREDIT_BUREAU_HOUR AMT_REQ_CREDIT_BUREAU_DAY  \\\n0                        0.0                       0.0   \n1                        0.0                       0.0   \n2                        0.0                       0.0   \n3                        NaN                       NaN   \n4                        0.0                       0.0   \n\n   AMT_REQ_CREDIT_BUREAU_WEEK  AMT_REQ_CREDIT_BUREAU_MON  \\\n0                         0.0                        0.0   \n1                         0.0                        0.0   \n2                         0.0                        0.0   \n3                         NaN                        NaN   \n4                         0.0                        0.0   \n\n   AMT_REQ_CREDIT_BUREAU_QRT  AMT_REQ_CREDIT_BUREAU_YEAR  \n0                        0.0                         1.0  \n1                        0.0                         0.0  \n2                        0.0                         0.0  \n3                        NaN                         NaN  \n4                        0.0                         0.0  \n\n[5 rows x 122 columns]",
            "text/html": "\u003cdiv\u003e\n\u003cstyle scoped\u003e\n    .dataframe tbody tr th:only-of-type {\n        vertical-align: middle;\n    }\n\n    .dataframe tbody tr th {\n        vertical-align: top;\n    }\n\n    .dataframe thead th {\n        text-align: right;\n    }\n\u003c/style\u003e\n\u003ctable border\u003d\"1\" class\u003d\"dataframe\"\u003e\n  \u003cthead\u003e\n    \u003ctr style\u003d\"text-align: right;\"\u003e\n      \u003cth\u003e\u003c/th\u003e\n      \u003cth\u003eSK_ID_CURR\u003c/th\u003e\n      \u003cth\u003eTARGET\u003c/th\u003e\n      \u003cth\u003eNAME_CONTRACT_TYPE\u003c/th\u003e\n      \u003cth\u003eCODE_GENDER\u003c/th\u003e\n      \u003cth\u003eFLAG_OWN_CAR\u003c/th\u003e\n      \u003cth\u003eFLAG_OWN_REALTY\u003c/th\u003e\n      \u003cth\u003eCNT_CHILDREN\u003c/th\u003e\n      \u003cth\u003eAMT_INCOME_TOTAL\u003c/th\u003e\n      \u003cth\u003eAMT_CREDIT\u003c/th\u003e\n      \u003cth\u003eAMT_ANNUITY\u003c/th\u003e\n      \u003cth\u003e...\u003c/th\u003e\n      \u003cth\u003eFLAG_DOCUMENT_18\u003c/th\u003e\n      \u003cth\u003eFLAG_DOCUMENT_19\u003c/th\u003e\n      \u003cth\u003eFLAG_DOCUMENT_20\u003c/th\u003e\n      \u003cth\u003eFLAG_DOCUMENT_21\u003c/th\u003e\n      \u003cth\u003eAMT_REQ_CREDIT_BUREAU_HOUR\u003c/th\u003e\n      \u003cth\u003eAMT_REQ_CREDIT_BUREAU_DAY\u003c/th\u003e\n      \u003cth\u003eAMT_REQ_CREDIT_BUREAU_WEEK\u003c/th\u003e\n      \u003cth\u003eAMT_REQ_CREDIT_BUREAU_MON\u003c/th\u003e\n      \u003cth\u003eAMT_REQ_CREDIT_BUREAU_QRT\u003c/th\u003e\n      \u003cth\u003eAMT_REQ_CREDIT_BUREAU_YEAR\u003c/th\u003e\n    \u003c/tr\u003e\n  \u003c/thead\u003e\n  \u003ctbody\u003e\n    \u003ctr\u003e\n      \u003cth\u003e0\u003c/th\u003e\n      \u003ctd\u003e100002\u003c/td\u003e\n      \u003ctd\u003e1\u003c/td\u003e\n      \u003ctd\u003eCash loans\u003c/td\u003e\n      \u003ctd\u003eM\u003c/td\u003e\n      \u003ctd\u003eN\u003c/td\u003e\n      \u003ctd\u003eY\u003c/td\u003e\n      \u003ctd\u003e0\u003c/td\u003e\n      \u003ctd\u003e202500.0\u003c/td\u003e\n      \u003ctd\u003e406597.5\u003c/td\u003e\n      \u003ctd\u003e24700.5\u003c/td\u003e\n      \u003ctd\u003e...\u003c/td\u003e\n      \u003ctd\u003e0\u003c/td\u003e\n      \u003ctd\u003e0\u003c/td\u003e\n      \u003ctd\u003e0\u003c/td\u003e\n      \u003ctd\u003e0\u003c/td\u003e\n      \u003ctd\u003e0.0\u003c/td\u003e\n      \u003ctd\u003e0.0\u003c/td\u003e\n      \u003ctd\u003e0.0\u003c/td\u003e\n      \u003ctd\u003e0.0\u003c/td\u003e\n      \u003ctd\u003e0.0\u003c/td\u003e\n      \u003ctd\u003e1.0\u003c/td\u003e\n    \u003c/tr\u003e\n    \u003ctr\u003e\n      \u003cth\u003e1\u003c/th\u003e\n      \u003ctd\u003e100003\u003c/td\u003e\n      \u003ctd\u003e0\u003c/td\u003e\n      \u003ctd\u003eCash loans\u003c/td\u003e\n      \u003ctd\u003eF\u003c/td\u003e\n      \u003ctd\u003eN\u003c/td\u003e\n      \u003ctd\u003eN\u003c/td\u003e\n      \u003ctd\u003e0\u003c/td\u003e\n      \u003ctd\u003e270000.0\u003c/td\u003e\n      \u003ctd\u003e1293502.5\u003c/td\u003e\n      \u003ctd\u003e35698.5\u003c/td\u003e\n      \u003ctd\u003e...\u003c/td\u003e\n      \u003ctd\u003e0\u003c/td\u003e\n      \u003ctd\u003e0\u003c/td\u003e\n      \u003ctd\u003e0\u003c/td\u003e\n      \u003ctd\u003e0\u003c/td\u003e\n      \u003ctd\u003e0.0\u003c/td\u003e\n      \u003ctd\u003e0.0\u003c/td\u003e\n      \u003ctd\u003e0.0\u003c/td\u003e\n      \u003ctd\u003e0.0\u003c/td\u003e\n      \u003ctd\u003e0.0\u003c/td\u003e\n      \u003ctd\u003e0.0\u003c/td\u003e\n    \u003c/tr\u003e\n    \u003ctr\u003e\n      \u003cth\u003e2\u003c/th\u003e\n      \u003ctd\u003e100004\u003c/td\u003e\n      \u003ctd\u003e0\u003c/td\u003e\n      \u003ctd\u003eRevolving loans\u003c/td\u003e\n      \u003ctd\u003eM\u003c/td\u003e\n      \u003ctd\u003eY\u003c/td\u003e\n      \u003ctd\u003eY\u003c/td\u003e\n      \u003ctd\u003e0\u003c/td\u003e\n      \u003ctd\u003e67500.0\u003c/td\u003e\n      \u003ctd\u003e135000.0\u003c/td\u003e\n      \u003ctd\u003e6750.0\u003c/td\u003e\n      \u003ctd\u003e...\u003c/td\u003e\n      \u003ctd\u003e0\u003c/td\u003e\n      \u003ctd\u003e0\u003c/td\u003e\n      \u003ctd\u003e0\u003c/td\u003e\n      \u003ctd\u003e0\u003c/td\u003e\n      \u003ctd\u003e0.0\u003c/td\u003e\n      \u003ctd\u003e0.0\u003c/td\u003e\n      \u003ctd\u003e0.0\u003c/td\u003e\n      \u003ctd\u003e0.0\u003c/td\u003e\n      \u003ctd\u003e0.0\u003c/td\u003e\n      \u003ctd\u003e0.0\u003c/td\u003e\n    \u003c/tr\u003e\n    \u003ctr\u003e\n      \u003cth\u003e3\u003c/th\u003e\n      \u003ctd\u003e100006\u003c/td\u003e\n      \u003ctd\u003e0\u003c/td\u003e\n      \u003ctd\u003eCash loans\u003c/td\u003e\n      \u003ctd\u003eF\u003c/td\u003e\n      \u003ctd\u003eN\u003c/td\u003e\n      \u003ctd\u003eY\u003c/td\u003e\n      \u003ctd\u003e0\u003c/td\u003e\n      \u003ctd\u003e135000.0\u003c/td\u003e\n      \u003ctd\u003e312682.5\u003c/td\u003e\n      \u003ctd\u003e29686.5\u003c/td\u003e\n      \u003ctd\u003e...\u003c/td\u003e\n      \u003ctd\u003e0\u003c/td\u003e\n      \u003ctd\u003e0\u003c/td\u003e\n      \u003ctd\u003e0\u003c/td\u003e\n      \u003ctd\u003e0\u003c/td\u003e\n      \u003ctd\u003eNaN\u003c/td\u003e\n      \u003ctd\u003eNaN\u003c/td\u003e\n      \u003ctd\u003eNaN\u003c/td\u003e\n      \u003ctd\u003eNaN\u003c/td\u003e\n      \u003ctd\u003eNaN\u003c/td\u003e\n      \u003ctd\u003eNaN\u003c/td\u003e\n    \u003c/tr\u003e\n    \u003ctr\u003e\n      \u003cth\u003e4\u003c/th\u003e\n      \u003ctd\u003e100007\u003c/td\u003e\n      \u003ctd\u003e0\u003c/td\u003e\n      \u003ctd\u003eCash loans\u003c/td\u003e\n      \u003ctd\u003eM\u003c/td\u003e\n      \u003ctd\u003eN\u003c/td\u003e\n      \u003ctd\u003eY\u003c/td\u003e\n      \u003ctd\u003e0\u003c/td\u003e\n      \u003ctd\u003e121500.0\u003c/td\u003e\n      \u003ctd\u003e513000.0\u003c/td\u003e\n      \u003ctd\u003e21865.5\u003c/td\u003e\n      \u003ctd\u003e...\u003c/td\u003e\n      \u003ctd\u003e0\u003c/td\u003e\n      \u003ctd\u003e0\u003c/td\u003e\n      \u003ctd\u003e0\u003c/td\u003e\n      \u003ctd\u003e0\u003c/td\u003e\n      \u003ctd\u003e0.0\u003c/td\u003e\n      \u003ctd\u003e0.0\u003c/td\u003e\n      \u003ctd\u003e0.0\u003c/td\u003e\n      \u003ctd\u003e0.0\u003c/td\u003e\n      \u003ctd\u003e0.0\u003c/td\u003e\n      \u003ctd\u003e0.0\u003c/td\u003e\n    \u003c/tr\u003e\n  \u003c/tbody\u003e\n\u003c/table\u003e\n\u003cp\u003e5 rows × 122 columns\u003c/p\u003e\n\u003c/div\u003e"
          },
          "metadata": {},
          "output_type": "execute_result",
          "execution_count": 14
        }
      ],
      "source": [
        "f_app \u003d os.path.join(dir_data, \u0027application_train.csv\u0027)\n",
        "print(\u0027Path of read in data: %s\u0027 % (f_app))\n",
        "app_train \u003d pd.read_csv(f_app)\n",
        "app_train.head()"
      ]
    },
    {
      "cell_type": "markdown",
      "metadata": {
        "pycharm": {}
      },
      "source": [
        "## 1. 列出 AMT_ANNUITY 的 q0 - q100\n",
        "## 2.1 將 AMT_ANNUITY 中的 NAs 暫時以中位數填補\n",
        "## 2.2 將 AMT_ANNUITY 的數值標準化至 -1 ~ 1 間\n",
        "## 3. 將 AMT_GOOD_PRICE 的 NAs 以眾數填補\n"
      ]
    },
    {
      "cell_type": "code",
      "execution_count": 15,
      "metadata": {
        "scrolled": true,
        "pycharm": {
          "is_executing": false
        }
      },
      "outputs": [
        {
          "data": {
            "text/plain": "        q      value\n0.00    0    1615.50\n0.01    1    6182.91\n0.02    2    6750.00\n0.03    3    7875.00\n0.04    4    8703.00\n0.05    5    9000.00\n0.06    6    9000.00\n0.07    7    9553.50\n0.08    8   10125.00\n0.09    9   10503.00\n0.10   10   11074.50\n0.11   11   11430.00\n0.12   12   11970.00\n0.13   13   12375.00\n0.14   14   12838.50\n0.15   15   13302.00\n0.16   16   13500.00\n0.17   17   13500.00\n0.18   18   13896.00\n0.19   19   14350.50\n0.20   20   14701.50\n0.21   21   15124.50\n0.22   22   15583.50\n0.23   23   15970.50\n0.24   24   16209.00\n0.25   25   16524.00\n0.26   26   16852.50\n0.27   27   17109.00\n0.28   28   17487.00\n0.29   29   17806.50\n...   ...        ...\n0.71   71   32458.50\n0.72   72   32895.00\n0.73   73   33376.50\n0.74   74   33984.00\n0.75   75   34596.00\n0.76   76   35345.16\n0.77   77   35806.50\n0.78   78   36328.50\n0.79   79   36747.00\n0.80   80   37516.50\n0.81   81   37948.50\n0.82   82   38556.00\n0.83   83   39456.00\n0.84   84   40135.50\n0.85   85   40806.00\n0.86   86   41845.50\n0.87   87   42790.50\n0.88   88   43735.50\n0.89   89   44991.00\n0.90   90   45954.00\n0.91   91   47254.50\n0.92   92   48465.00\n0.93   93   49878.00\n0.94   94   51745.50\n0.95   95   53325.00\n0.96   96   55624.50\n0.97   97   58482.00\n0.98   98   62964.00\n0.99   99   70006.50\n1.00  100  258025.50\n\n[101 rows x 2 columns]",
            "text/html": "\u003cdiv\u003e\n\u003cstyle scoped\u003e\n    .dataframe tbody tr th:only-of-type {\n        vertical-align: middle;\n    }\n\n    .dataframe tbody tr th {\n        vertical-align: top;\n    }\n\n    .dataframe thead th {\n        text-align: right;\n    }\n\u003c/style\u003e\n\u003ctable border\u003d\"1\" class\u003d\"dataframe\"\u003e\n  \u003cthead\u003e\n    \u003ctr style\u003d\"text-align: right;\"\u003e\n      \u003cth\u003e\u003c/th\u003e\n      \u003cth\u003eq\u003c/th\u003e\n      \u003cth\u003evalue\u003c/th\u003e\n    \u003c/tr\u003e\n  \u003c/thead\u003e\n  \u003ctbody\u003e\n    \u003ctr\u003e\n      \u003cth\u003e0.00\u003c/th\u003e\n      \u003ctd\u003e0\u003c/td\u003e\n      \u003ctd\u003e1615.50\u003c/td\u003e\n    \u003c/tr\u003e\n    \u003ctr\u003e\n      \u003cth\u003e0.01\u003c/th\u003e\n      \u003ctd\u003e1\u003c/td\u003e\n      \u003ctd\u003e6182.91\u003c/td\u003e\n    \u003c/tr\u003e\n    \u003ctr\u003e\n      \u003cth\u003e0.02\u003c/th\u003e\n      \u003ctd\u003e2\u003c/td\u003e\n      \u003ctd\u003e6750.00\u003c/td\u003e\n    \u003c/tr\u003e\n    \u003ctr\u003e\n      \u003cth\u003e0.03\u003c/th\u003e\n      \u003ctd\u003e3\u003c/td\u003e\n      \u003ctd\u003e7875.00\u003c/td\u003e\n    \u003c/tr\u003e\n    \u003ctr\u003e\n      \u003cth\u003e0.04\u003c/th\u003e\n      \u003ctd\u003e4\u003c/td\u003e\n      \u003ctd\u003e8703.00\u003c/td\u003e\n    \u003c/tr\u003e\n    \u003ctr\u003e\n      \u003cth\u003e0.05\u003c/th\u003e\n      \u003ctd\u003e5\u003c/td\u003e\n      \u003ctd\u003e9000.00\u003c/td\u003e\n    \u003c/tr\u003e\n    \u003ctr\u003e\n      \u003cth\u003e0.06\u003c/th\u003e\n      \u003ctd\u003e6\u003c/td\u003e\n      \u003ctd\u003e9000.00\u003c/td\u003e\n    \u003c/tr\u003e\n    \u003ctr\u003e\n      \u003cth\u003e0.07\u003c/th\u003e\n      \u003ctd\u003e7\u003c/td\u003e\n      \u003ctd\u003e9553.50\u003c/td\u003e\n    \u003c/tr\u003e\n    \u003ctr\u003e\n      \u003cth\u003e0.08\u003c/th\u003e\n      \u003ctd\u003e8\u003c/td\u003e\n      \u003ctd\u003e10125.00\u003c/td\u003e\n    \u003c/tr\u003e\n    \u003ctr\u003e\n      \u003cth\u003e0.09\u003c/th\u003e\n      \u003ctd\u003e9\u003c/td\u003e\n      \u003ctd\u003e10503.00\u003c/td\u003e\n    \u003c/tr\u003e\n    \u003ctr\u003e\n      \u003cth\u003e0.10\u003c/th\u003e\n      \u003ctd\u003e10\u003c/td\u003e\n      \u003ctd\u003e11074.50\u003c/td\u003e\n    \u003c/tr\u003e\n    \u003ctr\u003e\n      \u003cth\u003e0.11\u003c/th\u003e\n      \u003ctd\u003e11\u003c/td\u003e\n      \u003ctd\u003e11430.00\u003c/td\u003e\n    \u003c/tr\u003e\n    \u003ctr\u003e\n      \u003cth\u003e0.12\u003c/th\u003e\n      \u003ctd\u003e12\u003c/td\u003e\n      \u003ctd\u003e11970.00\u003c/td\u003e\n    \u003c/tr\u003e\n    \u003ctr\u003e\n      \u003cth\u003e0.13\u003c/th\u003e\n      \u003ctd\u003e13\u003c/td\u003e\n      \u003ctd\u003e12375.00\u003c/td\u003e\n    \u003c/tr\u003e\n    \u003ctr\u003e\n      \u003cth\u003e0.14\u003c/th\u003e\n      \u003ctd\u003e14\u003c/td\u003e\n      \u003ctd\u003e12838.50\u003c/td\u003e\n    \u003c/tr\u003e\n    \u003ctr\u003e\n      \u003cth\u003e0.15\u003c/th\u003e\n      \u003ctd\u003e15\u003c/td\u003e\n      \u003ctd\u003e13302.00\u003c/td\u003e\n    \u003c/tr\u003e\n    \u003ctr\u003e\n      \u003cth\u003e0.16\u003c/th\u003e\n      \u003ctd\u003e16\u003c/td\u003e\n      \u003ctd\u003e13500.00\u003c/td\u003e\n    \u003c/tr\u003e\n    \u003ctr\u003e\n      \u003cth\u003e0.17\u003c/th\u003e\n      \u003ctd\u003e17\u003c/td\u003e\n      \u003ctd\u003e13500.00\u003c/td\u003e\n    \u003c/tr\u003e\n    \u003ctr\u003e\n      \u003cth\u003e0.18\u003c/th\u003e\n      \u003ctd\u003e18\u003c/td\u003e\n      \u003ctd\u003e13896.00\u003c/td\u003e\n    \u003c/tr\u003e\n    \u003ctr\u003e\n      \u003cth\u003e0.19\u003c/th\u003e\n      \u003ctd\u003e19\u003c/td\u003e\n      \u003ctd\u003e14350.50\u003c/td\u003e\n    \u003c/tr\u003e\n    \u003ctr\u003e\n      \u003cth\u003e0.20\u003c/th\u003e\n      \u003ctd\u003e20\u003c/td\u003e\n      \u003ctd\u003e14701.50\u003c/td\u003e\n    \u003c/tr\u003e\n    \u003ctr\u003e\n      \u003cth\u003e0.21\u003c/th\u003e\n      \u003ctd\u003e21\u003c/td\u003e\n      \u003ctd\u003e15124.50\u003c/td\u003e\n    \u003c/tr\u003e\n    \u003ctr\u003e\n      \u003cth\u003e0.22\u003c/th\u003e\n      \u003ctd\u003e22\u003c/td\u003e\n      \u003ctd\u003e15583.50\u003c/td\u003e\n    \u003c/tr\u003e\n    \u003ctr\u003e\n      \u003cth\u003e0.23\u003c/th\u003e\n      \u003ctd\u003e23\u003c/td\u003e\n      \u003ctd\u003e15970.50\u003c/td\u003e\n    \u003c/tr\u003e\n    \u003ctr\u003e\n      \u003cth\u003e0.24\u003c/th\u003e\n      \u003ctd\u003e24\u003c/td\u003e\n      \u003ctd\u003e16209.00\u003c/td\u003e\n    \u003c/tr\u003e\n    \u003ctr\u003e\n      \u003cth\u003e0.25\u003c/th\u003e\n      \u003ctd\u003e25\u003c/td\u003e\n      \u003ctd\u003e16524.00\u003c/td\u003e\n    \u003c/tr\u003e\n    \u003ctr\u003e\n      \u003cth\u003e0.26\u003c/th\u003e\n      \u003ctd\u003e26\u003c/td\u003e\n      \u003ctd\u003e16852.50\u003c/td\u003e\n    \u003c/tr\u003e\n    \u003ctr\u003e\n      \u003cth\u003e0.27\u003c/th\u003e\n      \u003ctd\u003e27\u003c/td\u003e\n      \u003ctd\u003e17109.00\u003c/td\u003e\n    \u003c/tr\u003e\n    \u003ctr\u003e\n      \u003cth\u003e0.28\u003c/th\u003e\n      \u003ctd\u003e28\u003c/td\u003e\n      \u003ctd\u003e17487.00\u003c/td\u003e\n    \u003c/tr\u003e\n    \u003ctr\u003e\n      \u003cth\u003e0.29\u003c/th\u003e\n      \u003ctd\u003e29\u003c/td\u003e\n      \u003ctd\u003e17806.50\u003c/td\u003e\n    \u003c/tr\u003e\n    \u003ctr\u003e\n      \u003cth\u003e...\u003c/th\u003e\n      \u003ctd\u003e...\u003c/td\u003e\n      \u003ctd\u003e...\u003c/td\u003e\n    \u003c/tr\u003e\n    \u003ctr\u003e\n      \u003cth\u003e0.71\u003c/th\u003e\n      \u003ctd\u003e71\u003c/td\u003e\n      \u003ctd\u003e32458.50\u003c/td\u003e\n    \u003c/tr\u003e\n    \u003ctr\u003e\n      \u003cth\u003e0.72\u003c/th\u003e\n      \u003ctd\u003e72\u003c/td\u003e\n      \u003ctd\u003e32895.00\u003c/td\u003e\n    \u003c/tr\u003e\n    \u003ctr\u003e\n      \u003cth\u003e0.73\u003c/th\u003e\n      \u003ctd\u003e73\u003c/td\u003e\n      \u003ctd\u003e33376.50\u003c/td\u003e\n    \u003c/tr\u003e\n    \u003ctr\u003e\n      \u003cth\u003e0.74\u003c/th\u003e\n      \u003ctd\u003e74\u003c/td\u003e\n      \u003ctd\u003e33984.00\u003c/td\u003e\n    \u003c/tr\u003e\n    \u003ctr\u003e\n      \u003cth\u003e0.75\u003c/th\u003e\n      \u003ctd\u003e75\u003c/td\u003e\n      \u003ctd\u003e34596.00\u003c/td\u003e\n    \u003c/tr\u003e\n    \u003ctr\u003e\n      \u003cth\u003e0.76\u003c/th\u003e\n      \u003ctd\u003e76\u003c/td\u003e\n      \u003ctd\u003e35345.16\u003c/td\u003e\n    \u003c/tr\u003e\n    \u003ctr\u003e\n      \u003cth\u003e0.77\u003c/th\u003e\n      \u003ctd\u003e77\u003c/td\u003e\n      \u003ctd\u003e35806.50\u003c/td\u003e\n    \u003c/tr\u003e\n    \u003ctr\u003e\n      \u003cth\u003e0.78\u003c/th\u003e\n      \u003ctd\u003e78\u003c/td\u003e\n      \u003ctd\u003e36328.50\u003c/td\u003e\n    \u003c/tr\u003e\n    \u003ctr\u003e\n      \u003cth\u003e0.79\u003c/th\u003e\n      \u003ctd\u003e79\u003c/td\u003e\n      \u003ctd\u003e36747.00\u003c/td\u003e\n    \u003c/tr\u003e\n    \u003ctr\u003e\n      \u003cth\u003e0.80\u003c/th\u003e\n      \u003ctd\u003e80\u003c/td\u003e\n      \u003ctd\u003e37516.50\u003c/td\u003e\n    \u003c/tr\u003e\n    \u003ctr\u003e\n      \u003cth\u003e0.81\u003c/th\u003e\n      \u003ctd\u003e81\u003c/td\u003e\n      \u003ctd\u003e37948.50\u003c/td\u003e\n    \u003c/tr\u003e\n    \u003ctr\u003e\n      \u003cth\u003e0.82\u003c/th\u003e\n      \u003ctd\u003e82\u003c/td\u003e\n      \u003ctd\u003e38556.00\u003c/td\u003e\n    \u003c/tr\u003e\n    \u003ctr\u003e\n      \u003cth\u003e0.83\u003c/th\u003e\n      \u003ctd\u003e83\u003c/td\u003e\n      \u003ctd\u003e39456.00\u003c/td\u003e\n    \u003c/tr\u003e\n    \u003ctr\u003e\n      \u003cth\u003e0.84\u003c/th\u003e\n      \u003ctd\u003e84\u003c/td\u003e\n      \u003ctd\u003e40135.50\u003c/td\u003e\n    \u003c/tr\u003e\n    \u003ctr\u003e\n      \u003cth\u003e0.85\u003c/th\u003e\n      \u003ctd\u003e85\u003c/td\u003e\n      \u003ctd\u003e40806.00\u003c/td\u003e\n    \u003c/tr\u003e\n    \u003ctr\u003e\n      \u003cth\u003e0.86\u003c/th\u003e\n      \u003ctd\u003e86\u003c/td\u003e\n      \u003ctd\u003e41845.50\u003c/td\u003e\n    \u003c/tr\u003e\n    \u003ctr\u003e\n      \u003cth\u003e0.87\u003c/th\u003e\n      \u003ctd\u003e87\u003c/td\u003e\n      \u003ctd\u003e42790.50\u003c/td\u003e\n    \u003c/tr\u003e\n    \u003ctr\u003e\n      \u003cth\u003e0.88\u003c/th\u003e\n      \u003ctd\u003e88\u003c/td\u003e\n      \u003ctd\u003e43735.50\u003c/td\u003e\n    \u003c/tr\u003e\n    \u003ctr\u003e\n      \u003cth\u003e0.89\u003c/th\u003e\n      \u003ctd\u003e89\u003c/td\u003e\n      \u003ctd\u003e44991.00\u003c/td\u003e\n    \u003c/tr\u003e\n    \u003ctr\u003e\n      \u003cth\u003e0.90\u003c/th\u003e\n      \u003ctd\u003e90\u003c/td\u003e\n      \u003ctd\u003e45954.00\u003c/td\u003e\n    \u003c/tr\u003e\n    \u003ctr\u003e\n      \u003cth\u003e0.91\u003c/th\u003e\n      \u003ctd\u003e91\u003c/td\u003e\n      \u003ctd\u003e47254.50\u003c/td\u003e\n    \u003c/tr\u003e\n    \u003ctr\u003e\n      \u003cth\u003e0.92\u003c/th\u003e\n      \u003ctd\u003e92\u003c/td\u003e\n      \u003ctd\u003e48465.00\u003c/td\u003e\n    \u003c/tr\u003e\n    \u003ctr\u003e\n      \u003cth\u003e0.93\u003c/th\u003e\n      \u003ctd\u003e93\u003c/td\u003e\n      \u003ctd\u003e49878.00\u003c/td\u003e\n    \u003c/tr\u003e\n    \u003ctr\u003e\n      \u003cth\u003e0.94\u003c/th\u003e\n      \u003ctd\u003e94\u003c/td\u003e\n      \u003ctd\u003e51745.50\u003c/td\u003e\n    \u003c/tr\u003e\n    \u003ctr\u003e\n      \u003cth\u003e0.95\u003c/th\u003e\n      \u003ctd\u003e95\u003c/td\u003e\n      \u003ctd\u003e53325.00\u003c/td\u003e\n    \u003c/tr\u003e\n    \u003ctr\u003e\n      \u003cth\u003e0.96\u003c/th\u003e\n      \u003ctd\u003e96\u003c/td\u003e\n      \u003ctd\u003e55624.50\u003c/td\u003e\n    \u003c/tr\u003e\n    \u003ctr\u003e\n      \u003cth\u003e0.97\u003c/th\u003e\n      \u003ctd\u003e97\u003c/td\u003e\n      \u003ctd\u003e58482.00\u003c/td\u003e\n    \u003c/tr\u003e\n    \u003ctr\u003e\n      \u003cth\u003e0.98\u003c/th\u003e\n      \u003ctd\u003e98\u003c/td\u003e\n      \u003ctd\u003e62964.00\u003c/td\u003e\n    \u003c/tr\u003e\n    \u003ctr\u003e\n      \u003cth\u003e0.99\u003c/th\u003e\n      \u003ctd\u003e99\u003c/td\u003e\n      \u003ctd\u003e70006.50\u003c/td\u003e\n    \u003c/tr\u003e\n    \u003ctr\u003e\n      \u003cth\u003e1.00\u003c/th\u003e\n      \u003ctd\u003e100\u003c/td\u003e\n      \u003ctd\u003e258025.50\u003c/td\u003e\n    \u003c/tr\u003e\n  \u003c/tbody\u003e\n\u003c/table\u003e\n\u003cp\u003e101 rows × 2 columns\u003c/p\u003e\n\u003c/div\u003e"
          },
          "metadata": {},
          "output_type": "execute_result",
          "execution_count": 15
        }
      ],
      "source": "\"\"\"\nYOUR CODE HERE\n\"\"\"\n# 1: 計算 AMT_ANNUITY 的 q0 - q100\nq_all \u003d app_train[\"AMT_ANNUITY\"].quantile([i/100 for i in range(101)])\n\npd.DataFrame({\u0027q\u0027: list(range(101)),\n              \u0027value\u0027: q_all})"
    },
    {
      "cell_type": "code",
      "execution_count": 16,
      "metadata": {
        "pycharm": {
          "is_executing": false
        }
      },
      "outputs": [
        {
          "name": "stdout",
          "text": [
            "Before replace NAs, numbers of row that AMT_ANNUITY is NAs: 12\nAfter replace NAs, numbers of row that AMT_ANNUITY is NAs: 0\n"
          ],
          "output_type": "stream"
        }
      ],
      "source": "# 2.1 將 NAs 以 q50 填補\nprint(\"Before replace NAs, numbers of row that AMT_ANNUITY is NAs: %i\" % sum(app_train[\u0027AMT_ANNUITY\u0027].isnull()))\n\n\"\"\"\nYour Code Here\n\"\"\"\nq_50 \u003d app_train[\u0027AMT_ANNUITY\u0027].quantile(0.5)\napp_train.loc[app_train[\u0027AMT_ANNUITY\u0027].isnull(),\u0027AMT_ANNUITY\u0027] \u003d q_50\n\nprint(\"After replace NAs, numbers of row that AMT_ANNUITY is NAs: %i\" % sum(app_train[\u0027AMT_ANNUITY\u0027].isnull()))"
    },
    {
      "cell_type": "markdown",
      "metadata": {
        "pycharm": {}
      },
      "source": [
        "### Hints: Normalize function (to -1 ~ 1)\n",
        "$ y \u003d 2*(\\frac{x - min(x)}{max(x) - min(x)} - 0.5) $"
      ]
    },
    {
      "cell_type": "code",
      "execution_count": 17,
      "metadata": {
        "pycharm": {
          "is_executing": false
        }
      },
      "outputs": [
        {
          "name": "stdout",
          "text": [
            "\u003d\u003d Original data range \u003d\u003d\ncount    307511.000000\nmean      27108.487841\nstd       14493.461065\nmin        1615.500000\n25%       16524.000000\n50%       24903.000000\n75%       34596.000000\nmax      258025.500000\nName: AMT_ANNUITY, dtype: float64\n",
            "\u003d\u003d Normalized data range \u003d\u003d\n"
          ],
          "output_type": "stream"
        },
        {
          "data": {
            "text/plain": "count    307511.000000\nmean         -0.801154\nstd           0.113049\nmin          -1.000000\n25%          -0.883714\n50%          -0.818357\n75%          -0.742752\nmax           1.000000\nName: AMT_ANNUITY_NORMALIZED, dtype: float64"
          },
          "metadata": {},
          "output_type": "execute_result",
          "execution_count": 17
        }
      ],
      "source": "# 2.2 Normalize values to -1 to 1\nprint(\"\u003d\u003d Original data range \u003d\u003d\")\nprint(app_train[\u0027AMT_ANNUITY\u0027].describe())\n\nfrom sklearn.preprocessing import MinMaxScaler\n\ndef normalize_value(x):\n    mms \u003d MinMaxScaler((-1,1))\n    return mms.fit_transform(x.to_frame())\n\napp_train[\u0027AMT_ANNUITY_NORMALIZED\u0027] \u003d normalize_value(app_train[\u0027AMT_ANNUITY\u0027])\n\nprint(\"\u003d\u003d Normalized data range \u003d\u003d\")\napp_train[\u0027AMT_ANNUITY_NORMALIZED\u0027].describe()"
    },
    {
      "cell_type": "code",
      "execution_count": 18,
      "metadata": {
        "pycharm": {
          "is_executing": false
        }
      },
      "outputs": [
        {
          "name": "stdout",
          "text": [
            "Before replace NAs, numbers of row that AMT_GOODS_PRICE is NAs: 278\n450000.0\n",
            "After replace NAs, numbers of row that AMT_GOODS_PRICE is NAs: 0\n"
          ],
          "output_type": "stream"
        }
      ],
      "source": "# 3\nprint(\"Before replace NAs, numbers of row that AMT_GOODS_PRICE is NAs: %i\" % sum(app_train[\u0027AMT_GOODS_PRICE\u0027].isnull()))\n\n# 列出重複最多的數值\n\"\"\"\nYour Code Here\n\"\"\"\nvalue_most \u003d app_train[\u0027AMT_GOODS_PRICE\u0027].value_counts().sort_values(ascending\u003dFalse).index[0]\nprint(value_most)\n\nmode_goods_price \u003d list(app_train[\u0027AMT_GOODS_PRICE\u0027].value_counts().index)\napp_train.loc[app_train[\u0027AMT_GOODS_PRICE\u0027].isnull(), \u0027AMT_GOODS_PRICE\u0027] \u003d mode_goods_price[0]\n\nprint(\"After replace NAs, numbers of row that AMT_GOODS_PRICE is NAs: %i\" % sum(app_train[\u0027AMT_GOODS_PRICE\u0027].isnull()))"
    },
    {
      "cell_type": "code",
      "execution_count": null,
      "outputs": [],
      "source": "\n",
      "metadata": {
        "pycharm": {
          "metadata": false,
          "name": "#%%\n"
        }
      }
    }
  ],
  "metadata": {
    "anaconda-cloud": {},
    "kernelspec": {
      "display_name": "Python [default]",
      "language": "python",
      "name": "python3"
    },
    "language_info": {
      "codemirror_mode": {
        "name": "ipython",
        "version": 3
      },
      "file_extension": ".py",
      "mimetype": "text/x-python",
      "name": "python",
      "nbconvert_exporter": "python",
      "pygments_lexer": "ipython3",
      "version": "3.5.6"
    }
  },
  "nbformat": 4,
  "nbformat_minor": 1
}